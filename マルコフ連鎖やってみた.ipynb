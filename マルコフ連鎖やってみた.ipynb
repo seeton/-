{
  "nbformat": 4,
  "nbformat_minor": 0,
  "metadata": {
    "colab": {
      "name": "マルコフ連鎖やってみた.ipynb",
      "provenance": [],
      "collapsed_sections": []
    },
    "kernelspec": {
      "name": "python3",
      "display_name": "Python 3"
    },
    "language_info": {
      "name": "python"
    }
  },
  "cells": [
    {
      "cell_type": "markdown",
      "source": [
        "# 気象庁から天気データの所得\n",
        "気象庁の日ごとの天気をスクレイピングにて所得する"
      ],
      "metadata": {
        "id": "kHZZXMN9e7Eb"
      }
    },
    {
      "cell_type": "code",
      "execution_count": null,
      "metadata": {
        "id": "nSGQhwdCWHzq"
      },
      "outputs": [],
      "source": [
        "import requests\n",
        "from bs4 import BeautifulSoup\n",
        "import csv\n",
        "\n",
        "place_codeA = [44] #都道府県コード\n",
        "place_codeB = [47662] #地域コード\n",
        "place_name = [\"東京\"]"
      ]
    },
    {
      "cell_type": "code",
      "source": [
        "# URL\n",
        "base_url = \"http://www.data.jma.go.jp/obd/stats/etrn/view/daily_s1.php?prec_no=%s&block_no=%s&year=%s&month=%s&day=1&view=p1\""
      ],
      "metadata": {
        "id": "Nofq3ECha0L3"
      },
      "execution_count": null,
      "outputs": []
    },
    {
      "cell_type": "markdown",
      "source": [
        "天気概要を変更する"
      ],
      "metadata": {
        "id": "6cV5Jj3Ah55c"
      }
    },
    {
      "cell_type": "code",
      "source": [
        "unused_weather=[\"一時\",\"時々\",\"後\",\"、\"]\n",
        "weather_list=[\"晴\",\"曇\",\"雨\",\"雪\"]\n",
        "def change_weather(weather_conditions):\n",
        "  txt=str(weather_conditions)\n",
        "  \n",
        "  for i in range(4):\n",
        "    if(txt.find(unused_weather[i])>=0):\n",
        "      txt=txt[:txt.find(unused_weather[i])]\n",
        "  for i in range(4):\n",
        "    if(txt.find(weather_list[i])>=0):\n",
        "      txt=weather_list[i]\n",
        "  if(txt.find(\"みぞれ\")>=0):\n",
        "      txt=weather_list[3]\n",
        "  \n",
        "  return txt"
      ],
      "metadata": {
        "id": "ZeLb87tcf9cM"
      },
      "execution_count": null,
      "outputs": []
    },
    {
      "cell_type": "code",
      "source": [
        "for place in place_name:\n",
        "  All_list = [[\"年月日\",\"天気（昼）\",\"天気（夜）\"]]\n",
        "  index = place_name.index(place)\n",
        "\n",
        "  weather_set={\"晴\"}\n",
        "  # for文で該当期間抽出\n",
        "  for year in range(2020,2023):\n",
        "    for month in range(1,13):\n",
        "      r = requests.get(base_url%(place_codeA[index], place_codeB[index], year, month))\n",
        "      r.encoding = r.apparent_encoding\n",
        "\n",
        "      soup = BeautifulSoup(r.text)\n",
        "      rows = soup.findAll('tr',class_='mtx')\n",
        "      rows = rows[4:]\n",
        "\n",
        "      for row in rows:\n",
        "        # trのなかのtdをすべて抜き出す\n",
        "        data = row.findAll('td')\n",
        "\n",
        "\n",
        "        rowData = [] #初期化\n",
        "\n",
        "        #日付を所得\n",
        "        rowData.append(str(year) + \"/\" + str(month) + \"/\" + str(data[0].string))\n",
        "\n",
        "        #天気概況を所得\n",
        "        weather_set.add(change_weather(data[19].string))\n",
        "        weather_set.add(change_weather(data[20].string))\n",
        "        rowData.append(change_weather(data[19].string)) \n",
        "        rowData.append(change_weather(data[20].string)) \n",
        "        All_list.append(rowData)\n",
        "\n",
        "  #東京.csvを作成\n",
        "  with open('東京.csv', 'w',encoding=\"utf_8_sig\") as file:\n",
        "    writer = csv.writer(file, lineterminator='\\n')\n",
        "    writer.writerows(All_list)\n",
        "  print(weather_set)"
      ],
      "metadata": {
        "colab": {
          "base_uri": "https://localhost:8080/"
        },
        "id": "gJXlmfrza3H8",
        "outputId": "e77079cf-fd0f-482d-f8e1-8c9429b40de7"
      },
      "execution_count": null,
      "outputs": [
        {
          "output_type": "stream",
          "name": "stdout",
          "text": [
            "{'曇', 'None', '雨', '雪', '晴'}\n"
          ]
        }
      ]
    },
    {
      "cell_type": "markdown",
      "source": [
        "# ついにきた！マルコフ連鎖\n",
        "\n",
        "\n",
        "1.   昼のみのデータで確率を求める\n",
        "2.   昼と夜を合わせたデータで確率を求める(todo)\n",
        "\n"
      ],
      "metadata": {
        "id": "Sc4JiuvW4yKr"
      }
    },
    {
      "cell_type": "code",
      "source": [
        "import numpy as np\n",
        "with open('東京.csv') as f:\n",
        "  reader = csv.reader(f)\n",
        "  data_count=0\n",
        "  #晴=0,曇=1,雨=2,雪=3とした二次元配列を作成する\n",
        "  weather_markov=np.zeros((4, 4))\n",
        "  tmp=-1\n",
        "  for row in reader:\n",
        "    data_count+=1\n",
        "    if(row[1]=='None'):\n",
        "      break\n",
        "    weather_now=-1\n",
        "    #キモイ変換\n",
        "    if(row[1]=='晴'):\n",
        "      weather_now=0\n",
        "    if(row[1]=='曇'):\n",
        "      weather_now=1\n",
        "    if(row[1]=='雨'):\n",
        "      weather_now=2\n",
        "    if(row[1]=='雪'):\n",
        "      weather_now=3\n",
        "    if(tmp!=-1):\n",
        "      weather_markov[tmp][weather_now]+=1\n",
        "    if(weather_now!=-1):\n",
        "      tmp=weather_now\n",
        "  for i in range(4):\n",
        "    sum=0\n",
        "    for j in range(4):\n",
        "      sum+=weather_markov[i][j]\n",
        "    for j in range(4):\n",
        "      weather_markov[i][j]/=sum\n",
        "    \n",
        "  print(data_count)\n",
        "  print(weather_markov)"
      ],
      "metadata": {
        "colab": {
          "base_uri": "https://localhost:8080/"
        },
        "id": "9wEIBhHHpts6",
        "outputId": "6d1d5d0f-3af1-4a7c-814a-3aa43e31eba2"
      },
      "execution_count": null,
      "outputs": [
        {
          "output_type": "stream",
          "name": "stdout",
          "text": [
            "885\n",
            "[[0.60246914 0.3654321  0.02962963 0.00246914]\n",
            " [0.33692722 0.47708895 0.18598383 0.        ]\n",
            " [0.32380952 0.44761905 0.22857143 0.        ]\n",
            " [1.         0.         0.         0.        ]]\n"
          ]
        }
      ]
    },
    {
      "cell_type": "markdown",
      "source": [
        "↑だと見づらいので状態遷移図を作成します"
      ],
      "metadata": {
        "id": "nWRQgwyUEvH5"
      }
    },
    {
      "cell_type": "code",
      "source": [
        "!pip install transitions\n",
        "from transitions import Machine\n",
        "from transitions.extensions import GraphMachine\n",
        "\n",
        "states = ['Sunny', 'Cloudy', 'Rain']#,'Snow']\n",
        "\n",
        "transitions = []\n",
        "for i in range(3):\n",
        "    for j in range(3):\n",
        "      d={}\n",
        "      d['trigger']=str(round(weather_markov[i][j], 2))\n",
        "      d['source']=states[i]\n",
        "      d['dest']=states[j]\n",
        "      transitions.append(d)\n",
        "print(transitions)\n",
        "\n",
        "class Model(object):\n",
        "    pass\n",
        "model = Model()\n",
        "machine = GraphMachine(model = model, states=states, transitions=transitions, initial=states[0], auto_transitions=False)\n",
        "model.get_graph().draw('transitions.png', prog='dot', format='png') #ファイルで出力"
      ],
      "metadata": {
        "id": "xcA21_DNpaUC",
        "colab": {
          "base_uri": "https://localhost:8080/"
        },
        "outputId": "434f700f-ddf4-4522-fe7e-93f6885aeff7"
      },
      "execution_count": null,
      "outputs": [
        {
          "output_type": "stream",
          "name": "stdout",
          "text": [
            "Looking in indexes: https://pypi.org/simple, https://us-python.pkg.dev/colab-wheels/public/simple/\n",
            "Requirement already satisfied: transitions in /usr/local/lib/python3.7/dist-packages (0.8.11)\n",
            "Requirement already satisfied: six in /usr/local/lib/python3.7/dist-packages (from transitions) (1.15.0)\n",
            "[{'trigger': '0.6', 'source': 'Sunny', 'dest': 'Sunny'}, {'trigger': '0.37', 'source': 'Sunny', 'dest': 'Cloudy'}, {'trigger': '0.03', 'source': 'Sunny', 'dest': 'Rain'}, {'trigger': '0.34', 'source': 'Cloudy', 'dest': 'Sunny'}, {'trigger': '0.48', 'source': 'Cloudy', 'dest': 'Cloudy'}, {'trigger': '0.19', 'source': 'Cloudy', 'dest': 'Rain'}, {'trigger': '0.32', 'source': 'Rain', 'dest': 'Sunny'}, {'trigger': '0.45', 'source': 'Rain', 'dest': 'Cloudy'}, {'trigger': '0.23', 'source': 'Rain', 'dest': 'Rain'}]\n"
          ]
        }
      ]
    }
  ]
}